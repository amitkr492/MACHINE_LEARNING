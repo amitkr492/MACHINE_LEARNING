{
 "cells": [
  {
   "cell_type": "code",
   "execution_count": 8,
   "metadata": {
    "collapsed": true
   },
   "outputs": [],
   "source": [
    "import matplotlib.pyplot as plt\n",
    "from collections import  Counter"
   ]
  },
  {
   "cell_type": "code",
   "execution_count": 9,
   "metadata": {
    "collapsed": true
   },
   "outputs": [],
   "source": [
    "num_friends = [100,49,41,40,25,21,21,19,19,18,18,16,15,15,15,15,14,14,13,13,13,13,12,12,11,10,10,10,10,10,10,10,10,10,10,10,10,10,10,10,9,9,9,9,9,9,9,9,9,9,9,9,9,9,9,9,9,9,8,8,8,8,8,8,8,8,8,8,8,8,8,7,7,7,7,7,7,7,7,7,7,7,7,7,7,7,6,6,6,6,6,6,6,6,6,6,6,6,6,6,6,6,6,6,6,6,6,6,5,5,5,5,5,5,5,5,5,5,5,5,5,5,5,5,5,4,4,4,4,4,4,4,4,4,4,4,4,4,4,4,4,4,4,4,4,3,3,3,3,3,3,3,3,3,3,3,3,3,3,3,3,3,3,3,3,2,2,2,2,2,2,2,2,2,2,2,2,2,2,2,2,2,1,1,1,1,1,1,1,1,1,1,1,1,1,1,1,1,1,1,1,1,1,1]"
   ]
  },
  {
   "cell_type": "code",
   "execution_count": 18,
   "metadata": {
    "collapsed": false
   },
   "outputs": [
    {
     "data": {
      "image/png": "[encoded data removed]",
      "text/plain": [
       "<matplotlib.figure.Figure at 0x1ab69087a90>"
      ]
     },
     "metadata": {},
     "output_type": "display_data"
    }
   ],
   "source": [
    "def make_friend_coutns_histogram(plt):\n",
    "    \n",
    "    \"\"\"\n",
    "     collections — High-performance container datatypes¶\n",
    "     \n",
    "     A Counter is a dict subclass for counting hashable objects. It is an unordered collection where elements are stored as dictionary keys and their counts are stored as dictionary values. Counts are allowed to be any integer value including zero or negative counts. The Counter class is similar to bags or multisets in other languages.\n",
    "     \n",
    "    \n",
    "  \n",
    "    \n",
    "    from collections import Counter\n",
    "    \n",
    "    \"\"\"\n",
    "    \n",
    "    friend_counts=Counter(num_friends)\n",
    "    #print(friend_counts)\n",
    "    \n",
    "    #range() --\n",
    "    \"\"\"\n",
    "    \n",
    "    >>> # One parameter\n",
    "        >>> for i in range(5):\n",
    "        ...     print(i)\n",
    "        ... \n",
    "        0\n",
    "        1\n",
    "        2\n",
    "        3\n",
    "        4\n",
    "        >>> # Two parameters\n",
    "        >>> for i in range(3, 6):\n",
    "        ...     print(i)\n",
    "        ... \n",
    "        3\n",
    "        4\n",
    "        5\n",
    "        >>> # Three parameters\n",
    "        >>> for i in range(4, 10, 2):\n",
    "        ...     print(i)\n",
    "        ... \n",
    "        4\n",
    "        6\n",
    "        8\n",
    "        >>> # Going backwards\n",
    "        >>> for i in range(0, -10, -2):\n",
    "        ...     print(i)\n",
    "        ... \n",
    "        0\n",
    "        -2\n",
    "        -4\n",
    "        -6\n",
    "        -8\n",
    "    \n",
    "    \n",
    "    \"\"\"\n",
    "    xs = range(101)\n",
    "    \n",
    "    ys = [friend_counts[x] for x in xs]\n",
    "    plt.bar(xs,ys)  #for creating bar chart \n",
    "    \n",
    "    plt.axis([0,101,0,25])  #limiting the range of x axis 0 to 101 and range of y is 0 - 25\n",
    "    plt.xlabel(\"# of friends\")\n",
    "    plt.ylabel(\"# of people\")\n",
    "    plt.title(\"Histrogram of Friend Counts\")\n",
    "    \n",
    "    plt.show()\n",
    "\n",
    "make_friend_coutns_histogram(plt)\n",
    "\n",
    "    \n",
    "    \n",
    "    "
   ]
  },
  {
   "cell_type": "code",
   "execution_count": 19,
   "metadata": {
    "collapsed": true
   },
   "outputs": [],
   "source": [
    "num_points = len(num_friends)\n",
    "largest_value = max(num_friends)\n",
    "smallest_value = min(num_friends)\n",
    "sorted_value = sorted(num_friends)  # sort the value of num_friends and store in sorted value but num_friends is not modified\n",
    "smallest_value = sorted_value[0]\n",
    "second_smallest_value = sorted_value[1]\n",
    "second_largest_value = sorted_value[-2]\n"
   ]
  },
  {
   "cell_type": "code",
   "execution_count": 20,
   "metadata": {
    "collapsed": true
   },
   "outputs": [],
   "source": [
    "def mean(x):\n",
    "    return Sum(x) / len(x)\n",
    "\n",
    "\n",
    "def median(v):\n",
    "    n = len(v)\n",
    "    \n",
    "    sorted_v = sorted(v)\n",
    "    \n",
    "    midpoint = n //2   #   double // is used for interger division always return interger value\n",
    "    \n",
    "    if n % 2 ==1:\n",
    "        return sorted_v[midpoint]\n",
    "    else:\n",
    "        lo = midpoint -1\n",
    "        hi = midpoint\n",
    "        \n",
    "        return (sorted_v[lo] + sorted_v[hi])/2\n",
    "\n",
    "\n",
    "    \n",
    "\n",
    "        \n",
    "    \n"
   ]
  },
  {
   "cell_type": "code",
   "execution_count": 21,
   "metadata": {
    "collapsed": true
   },
   "outputs": [],
   "source": [
    "def quantile(x, p):\n",
    "    \n",
    "    \"\"\"returns the pth-percentile value in x\"\"\"\n",
    "    \n",
    "    \"\"\"\n",
    "    \n",
    "    quantile\n",
    "    each of any set of values of a variate which divide a frequency distribution into equal groups, each containing the same fraction of the total population.\n",
    "    \n",
    "    \n",
    "    0 quartile = 0 quantile = 0 percentile\n",
    "\n",
    "        1 quartile = 0.25 quantile = 25 percentile\n",
    "\n",
    "        2 quartile = .5 quantile = 50 percentile (median)\n",
    "\n",
    "        3 quartile = .75 quantile = 75 percentile\n",
    "\n",
    "        4 quartile = 1 quantile = 100 percentile\n",
    "        \n",
    "        \n",
    "        \n",
    "     -----   ----------------\n",
    "    \n",
    "            Percentiles go from 00 to 100100.\n",
    "        Quartiles go from 11 to 44 (or 00 to 44).\n",
    "        Quantiles can go from anything to anything.\n",
    "        Percentiles and quartiles are examples of quantiles.\n",
    "\n",
    "        ------------------\n",
    "\n",
    "\n",
    "\n",
    "        percentile: a measure used in statistics indicating the value below which a given percentage of observations in a group of observations fall.\n",
    "\n",
    "        Example: the 20th percentile of XX is the value QX(0.20)QX(0.20)\n",
    "        quantile: values taken from regular intervals of the quantile function of a random variable. For instance, for some integer k≥2k≥2, the kk-quartiles are defined as the values i.e. QX(j/k)QX(j/k) for j=1,2,…,k−1j=1,2,…,k−1.\n",
    "\n",
    "        Example: the 5-quantiles of XX are the values QX(0.2),QX(0.4),QX(0.6),QX(0.8)QX(0.2),QX(0.4),QX(0.6),QX(0.8)\n",
    "        quartile: a special case of quantile, in particular the 4-quantiles. The quartiles of XX are the values QX(0.25),QX(0.5),QX(0.75)\n",
    "\n",
    "    \n",
    "    \n",
    "    \"\"\"\n",
    "    \n",
    "    p_index = int(p * len(x))\n",
    "    \n",
    "    sorted_value = sorted(x)\n",
    "    \n",
    "    \"\"\"returns the pth-percentile value in x\"\"\"\n",
    "    \n",
    "    return sorted_value[p_index]\n",
    "\n",
    "    \n",
    "    \n",
    "    "
   ]
  },
  {
   "cell_type": "code",
   "execution_count": 22,
   "metadata": {
    "collapsed": true
   },
   "outputs": [],
   "source": [
    "def mode(x):\n",
    "    \"\"\"returns a list, might be more than one mode\"\"\"\n",
    "    \n",
    "    counts = Counter(x)\n",
    "    \n",
    "    max_counts = max(counts.values()) #counter.values() return the value of counts \n",
    "    \n",
    "    \n",
    "    \n",
    "    \"\"\"\n",
    "    \n",
    "    n Python 2.x - .items() returned a list of (key, value) pairs. In Python 3.x, .items() is now an  itemview object, which behaves different - so it has to be iterated over, or materialised... So, list(dict.items()) is required for what was dict.items() in Python 2.x.\n",
    "\n",
    "    Python 2.7 also has a bit of a back-port for key handling, in that you have viewkeys, viewitems and viewvalues methods, the most useful being viewkeys which behaves more like a set (which you'd expect from a dict).\n",
    "\n",
    "    Simple example:\n",
    "\n",
    "    common_keys = list(dict_a.viewkeys() & dict_b.viewkeys())\n",
    "    Will give you a list of the common keys, but again, in Python 3.x - just use .keys() instead.\n",
    "\n",
    "    Python 3.x has generally been made to be more \"lazy\" - i.e. map is now effectively itertools.imap, zip is itertools.izip, etc.\n",
    "\n",
    "\n",
    "    \n",
    "    \n",
    "    \n",
    "    \n",
    "    \n",
    "    \"\"\"\n",
    "    \n",
    "    \n",
    "    \n",
    "    return [x_i for x_i, count in counts.iteritems()if count==max_count]\n",
    "    "
   ]
  },
  {
   "cell_type": "code",
   "execution_count": 23,
   "metadata": {
    "collapsed": true
   },
   "outputs": [],
   "source": [
    "def data_range(x):\n",
    "    return max(x) - min(x)"
   ]
  },
  {
   "cell_type": "code",
   "execution_count": 24,
   "metadata": {
    "collapsed": true
   },
   "outputs": [],
   "source": [
    "def de_mean(x):\n",
    "    \"\"\"translate x by subtracting its mean (so the result has mean 0)\"\"\"\n",
    "    x_bar = mean(x)\n",
    "    \n",
    "    return [ x_i - x_bar for x_i in x]\n"
   ]
  },
  {
   "cell_type": "code",
   "execution_count": 25,
   "metadata": {
    "collapsed": true
   },
   "outputs": [],
   "source": [
    "def variance(x):\n",
    "    \n",
    "    \"\"\"\n",
    "   the fact or quality of being different, divergent, or inconsistent.\n",
    "   \n",
    "   In probability theory and statistics, variance is the expectation of the squared deviation of a random variable from its mean. Informally, it measures how far a set of (random) numbers are spread out from their average value.\n",
    "   \n",
    "\n",
    "    The variance (σ2) is a measure of how far each value in the data set is from the mean. ... Subtract the mean from each value in the data. This gives you a measure of the distance of each value from the mean. Square each of these distances (so that they are all positive values), and add all of the squares together.\n",
    "   \n",
    "   \n",
    "       \"\"\"\n",
    "    n = len(x)\n",
    "    \n",
    "    deviations = de_mean(x)\n",
    "    \n",
    "    return sum_of_squares(deviations) / (n-1)\n",
    "\n",
    "\n",
    "    \n",
    "    \n",
    "    \n",
    "    \n",
    "\n",
    "    "
   ]
  },
  {
   "cell_type": "code",
   "execution_count": 27,
   "metadata": {
    "collapsed": true
   },
   "outputs": [],
   "source": [
    "def standard_deviation(x):\n",
    "    \"\"\"\n",
    "    \n",
    "    Standard deviation is a measure of the dispersion of a set of data\n",
    "    from its mean. It is calculated as the square root of variance by \n",
    "    determining the variation between each data point relative to the mean.\n",
    "    If the data points are further from the mean, \n",
    "    there is higher deviation within the data set.\n",
    "    \n",
    "    \n",
    "    \"\"\"\n",
    "    \n",
    "    return math.sqrt(variance(x))"
   ]
  },
  {
   "cell_type": "code",
   "execution_count": 28,
   "metadata": {
    "collapsed": true
   },
   "outputs": [],
   "source": [
    "def interquartile_range(x):\n",
    "    \"\"\"\n",
    "    In descriptive statistics, the interquartile range (IQR),\n",
    "    also called the midspread or middle 50%, or technically H-spread,\n",
    "    is a measure of statistical dispersion, being equal to the difference\n",
    "    between 75th and 25th percentiles,\n",
    "    or between upper and lower quartiles, IQR = Q3 − Q1.\n",
    "    \n",
    "    \n",
    "    \"\"\"\n",
    "\n",
    "    \n",
    "    return quantile(x, 0.75) - quantile(x, 0.25)\n"
   ]
  },
  {
   "cell_type": "code",
   "execution_count": 29,
   "metadata": {
    "collapsed": true
   },
   "outputs": [],
   "source": [
    "daily_minutes = [1,68.77,51.25,52.08,38.36,44.54,57.13,51.4,41.42,31.22,34.76,54.01,38.79,47.59,49.1,27.66,41.03,36.73,48.65,28.12,46.62,35.57,32.98,35,26.07,23.77,39.73,40.57,31.65,31.21,36.32,20.45,21.93,26.02,27.34,23.49,46.94,30.5,33.8,24.23,21.4,27.94,32.24,40.57,25.07,19.42,22.39,18.42,46.96,23.72,26.41,26.97,36.76,40.32,35.02,29.47,30.2,31,38.11,38.18,36.31,21.03,30.86,36.07,28.66,29.08,37.28,15.28,24.17,22.31,30.17,25.53,19.85,35.37,44.6,17.23,13.47,26.33,35.02,32.09,24.81,19.33,28.77,24.26,31.98,25.73,24.86,16.28,34.51,15.23,39.72,40.8,26.06,35.76,34.76,16.13,44.04,18.03,19.65,32.62,35.59,39.43,14.18,35.24,40.13,41.82,35.45,36.07,43.67,24.61,20.9,21.9,18.79,27.61,27.21,26.61,29.77,20.59,27.53,13.82,33.2,25,33.1,36.65,18.63,14.87,22.2,36.81,25.53,24.62,26.25,18.21,28.08,19.42,29.79,32.8,35.99,28.32,27.79,35.88,29.06,36.28,14.1,36.63,37.49,26.9,18.58,38.48,24.48,18.95,33.55,14.24,29.04,32.51,25.63,22.22,19,32.73,15.16,13.9,27.2,32.01,29.27,33,13.74,20.42,27.32,18.23,35.35,28.48,9.08,24.62,20.12,35.26,19.92,31.02,16.49,12.16,30.7,31.22,34.65,13.13,27.51,33.2,31.57,14.1,33.42,17.44,10.12,24.42,9.82,23.39,30.93,15.03,21.67,31.09,33.29,22.61,26.89,23.48,8.38,27.81,32.35,23.84]\n",
    "\n"
   ]
  },
  {
   "cell_type": "code",
   "execution_count": 31,
   "metadata": {
    "collapsed": true
   },
   "outputs": [],
   "source": [
    "def covariance(x, y):\n",
    "    \n",
    "    \"\"\"\n",
    "    Covariance. Covariance is a measure of how much two random variables vary\n",
    "    together. It's similar to variance, but where variance tells you how \n",
    "    a single variable varies, co variance tells you how two variables vary\n",
    "    together\n",
    "    \n",
    "    \n",
    "    covariance is a measure of the joint variability of two random variables.\n",
    "    \n",
    "    The formula is:\n",
    "    Cov(X,Y) = Σ E((X-μ)E(Y-ν)) / n-1 where:\n",
    "    X is a random variable\n",
    "    E(X) = μ is the expected value (the mean) of the random variable X and\n",
    "    E(Y) = ν is the expected value (the mean) of the random variable Y\n",
    "    n = the number of items in the data set\n",
    "    \n",
    "    \n",
    "    A large covariance can mean a strong relationship between variables.\n",
    "    However, you can’t compare variances over data sets with different\n",
    "    scales (like pounds and inches). A weak covariance in one data set may \n",
    "    be a strong one in a different data set with different scales.\n",
    "\n",
    "    The main problem with interpretation is that the wide range of results that it takes on makes it hard to interpret. For example, your data set could return a value of 3, or 3,000. This wide range of values is cause by a simple fact; The larger the X and Y values, the larger the covariance. A value of 300 tells us that the variables are correlated, but unlike the correlation coefficient, that number doesn’t tell us exactly how strong that relationship is. The problem can be fixed by dividing the covariance by the standard deviation to get the correlation coefficient.\n",
    "    Corr(X,Y) = Cov(X,Y) / σXσY\n",
    "\n",
    "    \n",
    "    Calculate covariance for the following data set:\n",
    "    x: 2.1, 2.5, 3.6, 4.0 (mean = 3.1)\n",
    "    y: 8, 10, 12, 14 (mean = 11)\n",
    "\n",
    "    Substitute the values into the formula and solve:\n",
    "    Cov(X,Y) = ΣE((X-μ)(Y-ν)) / n-1\n",
    "    = (2.1-3.1)(8-11)+(2.5-3.1)(10-11)+(3.6-3.1)(12-11)+(4.0-3.1)(14-11) /(4-1)\n",
    "    = (-1)(-3) + (-0.6)(-1)+(.5)(1)+(0.9)(3) / 3\n",
    "    = 3 + 0.6 + .5 + 2.7 / 3\n",
    "    = 6.8/3\n",
    "    = 2.267\n",
    "    \n",
    "    \n",
    "    http://www.statisticshowto.com/covariance/\n",
    "    \n",
    "    \"\"\"\n",
    "    \n",
    "    \n",
    "    n = len(x)\n",
    "    return dot(de_mean(x),de_mean(y)) / (n-1)"
   ]
  },
  {
   "cell_type": "code",
   "execution_count": 32,
   "metadata": {
    "collapsed": true
   },
   "outputs": [],
   "source": [
    "def correlation(x, y):\n",
    "    \"\"\"\n",
    "    Correlation is used to test relationships between quantitative variables or categorical variables. \n",
    "    In other words, it’s a measure of how things are related. The study of how variables are correlated is called correlation analysis.\n",
    "\n",
    "    Some examples of data that have a high correlation:\n",
    "\n",
    "    Your caloric intake and your weight.\n",
    "    Your eye color and your relatives’ eye colors.\n",
    "    The amount of time your study and your GPA.\n",
    "    Some examples of data that have a low correlation (or none at all):\n",
    "\n",
    "    Your sexual preference and the type of cereal you eat.\n",
    "    A dog’s name and the type of dog biscuit they prefer.\n",
    "    The cost of a car wash and how long it takes to buy a soda inside the station.\n",
    "\n",
    "\n",
    "\n",
    "    A correlation coefficient is a way to put a value to the relationship.\n",
    "    Correlation coefficients have a value of between -1 and 1. A “0” means there is no relationship between the variables at all, while -1 or 1 means that there is a perfect negative or positive correlation (negative or positive correlation here refers to the type of graph the relationship will produce).\n",
    "\n",
    "    Correlation coefficients are used in statistics to measure \n",
    "    how strong a relationship is between two variables. \n",
    "    There are several types of correlation coefficient: Pearson’s correlation\n",
    "    (also called Pearson’s R) is a correlation coefficient commonly used in\n",
    "    linear regression. If you’re starting out in statistics, you’ll probably \n",
    "    learn about Pearson’s R first. In fact, when anyone refers to the correlation coefficient, they are usually talking about Pearson’s.\n",
    "\n",
    "    1 indicates a strong positive relationship.\n",
    "    -1 indicates a strong negative relationship.\n",
    "    A result of zero indicates no relationship at all.\n",
    "\n",
    "\n",
    "    A correlation coefficient of 1 means that for every positive increase in one variable, there is a positive increase of a fixed proportion in the other. For example, shoe sizes go up in (almost) perfect correlation with foot length.\n",
    "    A correlation coefficient of -1 means that for every positive increase in one variable, there is a negative decrease of a fixed proportion in the other. For example, the amount of gas in a tank decreases in (almost) perfect correlation with speed.\n",
    "    Zero means that for every increase, there isn’t a positive or negative increase. The two just aren’t related.\n",
    "\n",
    "\n",
    "\n",
    "    Two other formulas are commonly used:\n",
    "    the sample correlation coefficient and \n",
    "    the population correlation coefficient.\n",
    "    \n",
    "    \n",
    "    \"\"\"\n",
    "    \n",
    "    #Here we are implementing the sample correlation coefficient\n",
    "    \n",
    "    \n",
    "    \n",
    "    \n",
    "    \n",
    "    \n",
    "    \n",
    "    stdev_x = standard_deviation(x)\n",
    "    stdev_y = standard_devaiation(y)\n",
    "    \n",
    "    if stdev_x > 0 and stdev_y > 0:\n",
    "        return covariance(x, y) / stdev_x / stdev_y\n",
    "    \n",
    "    else:\n",
    "        return 0;\n",
    "    "
   ]
  },
  {
   "cell_type": "code",
   "execution_count": 35,
   "metadata": {
    "collapsed": false
   },
   "outputs": [],
   "source": [
    "outlier = num_friends.index(100)\n",
    "\n",
    "\n",
    "\"\"\"\n",
    "The enumerate() function adds a counter to an iterable.\n",
    "\n",
    "So for each element in cursor, a tuple is produced with (counter, element); the for loop binds that to row_number and row, respectively.\n",
    "\n",
    "Demo:\n",
    "\n",
    ">>> elements = ('foo', 'bar', 'baz')\n",
    ">>> for elem in elements:\n",
    "...     print elem\n",
    "... \n",
    "foo\n",
    "bar\n",
    "baz\n",
    ">>> for count, elem in enumerate(elements):\n",
    "...     print count, elem\n",
    "... \n",
    "0 foo\n",
    "1 bar\n",
    "2 baz\n",
    "By default, enumerate() starts counting at 0 but if you give it a second integer argument, it'll start from that number instead:\n",
    "\n",
    ">>> for count, elem in enumerate(elements, 42):\n",
    "...     print count, elem\n",
    "... \n",
    "42 foo\n",
    "43 bar\n",
    "44 baz\n",
    "\n",
    "\n",
    "\"\"\"\n",
    "num_friends_good = [ x for i , x in enumerate(num_friends) if i != outlier]\n",
    "\n",
    "daily_minutes_good = [ x for i, x in enumerate(daily_minutes) if i != outlier]"
   ]
  },
  {
   "cell_type": "code",
   "execution_count": 42,
   "metadata": {
    "collapsed": false
   },
   "outputs": [
    {
     "name": "stdout",
     "output_type": "stream",
     "text": [
      "num_points 204\n",
      "largest value 100\n"
     ]
    },
    {
     "ename": "NameError",
     "evalue": "name 'sorted_values' is not defined",
     "output_type": "error",
     "traceback": [
      "\u001b[0;31m---------------------------------------------------------------------------\u001b[0m",
      "\u001b[0;31mNameError\u001b[0m                                 Traceback (most recent call last)",
      "\u001b[0;32m<ipython-input-42-55d1cf6f0a93>\u001b[0m in \u001b[0;36m<module>\u001b[0;34m()\u001b[0m\n\u001b[1;32m      4\u001b[0m     \u001b[0mprint\u001b[0m \u001b[1;33m(\u001b[0m\u001b[1;34m\"num_points\"\u001b[0m\u001b[1;33m,\u001b[0m \u001b[0mlen\u001b[0m\u001b[1;33m(\u001b[0m\u001b[0mnum_friends\u001b[0m\u001b[1;33m)\u001b[0m\u001b[1;33m)\u001b[0m\u001b[1;33m\u001b[0m\u001b[0m\n\u001b[1;32m      5\u001b[0m     \u001b[0mprint\u001b[0m \u001b[1;33m(\u001b[0m\u001b[1;34m\"largest value\"\u001b[0m\u001b[1;33m,\u001b[0m \u001b[0mmax\u001b[0m\u001b[1;33m(\u001b[0m\u001b[0mnum_friends\u001b[0m\u001b[1;33m)\u001b[0m\u001b[1;33m)\u001b[0m\u001b[1;33m\u001b[0m\u001b[0m\n\u001b[0;32m----> 6\u001b[0;31m     \u001b[0mprint\u001b[0m\u001b[1;33m(\u001b[0m\u001b[1;34m\"second_largest_value\"\u001b[0m\u001b[1;33m,\u001b[0m \u001b[0msorted_values\u001b[0m\u001b[1;33m[\u001b[0m\u001b[1;33m-\u001b[0m\u001b[1;36m2\u001b[0m\u001b[1;33m]\u001b[0m\u001b[1;33m)\u001b[0m\u001b[1;33m\u001b[0m\u001b[0m\n\u001b[0m\u001b[1;32m      7\u001b[0m     \u001b[0mprint\u001b[0m \u001b[1;33m(\u001b[0m\u001b[1;34m\"hello\"\u001b[0m\u001b[1;33m)\u001b[0m\u001b[1;33m\u001b[0m\u001b[0m\n\u001b[1;32m      8\u001b[0m     \"\"\"\n",
      "\u001b[0;31mNameError\u001b[0m: name 'sorted_values' is not defined"
     ]
    }
   ],
   "source": [
    "if __name__ == \"__main__\":\n",
    "    \n",
    "\n",
    "    print (\"num_points\", len(num_friends))\n",
    "    print (\"largest value\", max(num_friends))\n",
    "    \n",
    "    print (\"hello\")\n",
    "    \"\"\"\n",
    "    \n",
    "    print \"smallest value\", min(num_friends)\n",
    "    print \"second_smallest_value\", sorted_values[1]\n",
    "    print \"second_largest_value\", sorted_values[-2]  \n",
    "    print \"mean(num_friends)\", mean(num_friends)\n",
    "    print \"median(num_friends)\", median(num_friends)\n",
    "    print \"quantile(num_friends, 0.10)\", quantile(num_friends, 0.10)\n",
    "    print \"quantile(num_friends, 0.25)\", quantile(num_friends, 0.25)\n",
    "    print \"quantile(num_friends, 0.75)\", quantile(num_friends, 0.75)\n",
    "    print \"quantile(num_friends, 0.90)\", quantile(num_friends, 0.90)\n",
    "    print \"mode(num_friends)\", mode(num_friends)\n",
    "    print \"data_range(num_friends)\", data_range(num_friends)\n",
    "    print \"variance(num_friends)\", variance(num_friends)\n",
    "    print \"standard_deviation(num_friends)\", standard_deviation(num_friends)\n",
    "    print \"interquartile_range(num_friends)\", interquartile_range(num_friends)\n",
    "\n",
    "    print \"covariance(num_friends, daily_minutes)\", covariance(num_friends, daily_minutes)\n",
    "    print \"correlation(num_friends, daily_minutes)\", correlation(num_friends, daily_minutes)\n",
    "    print \"correlation(num_friends_good, daily_minutes_good)\", correlation(num_friends_good, daily_minutes_good)\n",
    "    \"\"\""
   ]
  },
  {
   "cell_type": "code",
   "execution_count": null,
   "metadata": {
    "collapsed": true
   },
   "outputs": [],
   "source": []
  }
 ],
 "metadata": {
  "anaconda-cloud": {},
  "kernelspec": {
   "display_name": "Python [default]",
   "language": "python",
   "name": "python3"
  },
  "language_info": {
   "codemirror_mode": {
    "name": "ipython",
    "version": 3
   },
   "file_extension": ".py",
   "mimetype": "text/x-python",
   "name": "python",
   "nbconvert_exporter": "python",
   "pygments_lexer": "ipython3",
   "version": "3.5.2"
  }
 },
 "nbformat": 4,
 "nbformat_minor": 1
}
