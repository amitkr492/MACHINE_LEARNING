{
 "cells": [
  {
   "cell_type": "code",
   "execution_count": 6,
   "metadata": {
    "collapsed": true
   },
   "outputs": [],
   "source": [
    "import math\n",
    "import random\n",
    "import matplotlib.pyplot as plt"
   ]
  },
  {
   "cell_type": "code",
   "execution_count": 7,
   "metadata": {
    "collapsed": true
   },
   "outputs": [],
   "source": [
    "def random_kid():\n",
    "    \"\"\"\n",
    "    The method choice() returns a random item from a list, tuple, or string.\n",
    "    \n",
    "    This method returns a random item.\n",
    "    import random\n",
    "\n",
    "    print \"choice([1, 2, 3, 5, 9]) : \", random.choice([1, 2, 3, 5, 9])\n",
    "    print \"choice('A String') : \", random.choice('A String')\n",
    "    \"\"\"\n",
    "    return random.choice([\"boy\",\"girl\"])\n",
    "    \n",
    "    "
   ]
  },
  {
   "cell_type": "code",
   "execution_count": 8,
   "metadata": {
    "collapsed": true
   },
   "outputs": [],
   "source": [
    "def uniform_pdf(x):\n",
    "    \n",
    "    \"\"\"\n",
    "    dist = scipy.stats.uniform(...)\n",
    "    http://www.personal.soton.ac.uk/jav/soton/HELM/workbooks/workbook_38/38_2_uniform_dist.pdf\n",
    "    \n",
    "    The function f(x) is defined by:\n",
    "f(x) = 1 / (b-a)  if a <= x <=b\n",
    "f(x) = 0 otherwise\n",
    "\n",
    "\n",
    "    \"\"\"\n",
    "    \n",
    "    #here we are assuming a = 0 and b=1\n",
    "    return 1 if x >= 0 and x < 1 else 0\n"
   ]
  },
  {
   "cell_type": "code",
   "execution_count": 9,
   "metadata": {
    "collapsed": false
   },
   "outputs": [],
   "source": [
    "def uniform_cdf(x):\n",
    "    \"returns the probability that a uniform random variable is less than x\"\n",
    "    \n",
    "    if x < 0 : return 0  #uniform random is never less than 0\n",
    "    elif x < 1 : return x #e.g.  P( X < 0.4 ) = 0.4\n",
    "    else: return 1   #uniform random is always less than 1\n",
    "    \n",
    "    "
   ]
  },
  {
   "cell_type": "code",
   "execution_count": 10,
   "metadata": {
    "collapsed": true
   },
   "outputs": [],
   "source": [
    "def normal_pdf(x, mu=0, sigma=1):\n",
    "    \"\"\"\n",
    "    https://www.itl.nist.gov/div898/handbook/eda/section3/eda3661.htm\n",
    "    \n",
    "    A mean of zero and a standard deviation of one are considered \n",
    "    to be the default values for a normal distribution on the calculator,\n",
    "    if you choose not to set these values.\n",
    "    \n",
    "    https://mathbits.com/MathBits/TISection/Statistics2/normaldistribution.htm\n",
    "    \n",
    "    The general formula for the probability density function of the normal\n",
    "    distribution is\n",
    "    f(x)=e−(x−μ)2/(2σ2)σ2π√\n",
    "\n",
    "    where μ is the location parameter and σ is the scale parameter.\n",
    "    The case where μ = 0 and σ = 1 is called the standard normal distribution.\n",
    "    The equation for the standard normal distribution is\n",
    "\n",
    "    f(x)=e−x2/22π√\n",
    "\n",
    "    Since the general form of probability functions can be expressed in terms of the standard distribution, all subsequent formulas in this section are given for the standard form of the function.\n",
    "\n",
    "    \n",
    "    \n",
    "    \n",
    "    \n",
    "    \"\"\"\n",
    "    sqrt_two_pi = math.sqrt(2 * math.pi)\n",
    "    return (math.exp(-(x-mu) ** 2 / 2 / sigma ** 2))\n",
    "    \n",
    "    "
   ]
  },
  {
   "cell_type": "code",
   "execution_count": 33,
   "metadata": {
    "collapsed": false
   },
   "outputs": [
    {
     "data": {
      "image/png": "[encoded data removed]",
      "text/plain": [
       "<matplotlib.figure.Figure at 0x2b7cd982550>"
      ]
     },
     "metadata": {},
     "output_type": "display_data"
    }
   ],
   "source": [
    "def plot_normal_pdfs(plt):\n",
    "    xs = [ x / 10.0 for x in range(-50,50)]\n",
    "    #print(xs)\n",
    "    #print([normal_pdf(x,sigma=1) for x in xs])\n",
    "    plt.plot(xs,[normal_pdf(x,sigma=1) for x in xs],'-',label='mu=0 ,sigma=1')\n",
    "    #plt.plot(xs,[normal_pdf(x,sigma=2) for x in xs],'--',label='mu =0 , sigma =2')\n",
    "    plt.plot(xs,[normal_pdf(x,sigma=3) for x in xs],'--',label='mu =0 , sigma =2')\n",
    "    plt.plot(xs,[normal_pdf(x,sigma=0.5) for x in xs],':',label='mu =0, sigma =0.5')\n",
    "    plt.plot(xs,[normal_pdf(x,mu=-1)for x in xs],\"-.\",label='mu=-1 , sigma =1 ')\n",
    "    plt.show()\n",
    "    \n",
    "    \n",
    "\n",
    "plot_normal_pdfs(plt)\n",
    "\n",
    "   "
   ]
  },
  {
   "cell_type": "code",
   "execution_count": 38,
   "metadata": {
    "collapsed": false
   },
   "outputs": [
    {
     "data": {
      "text/plain": [
       "'\\npoisson distribution\\n\\nhttps://www.youtube.com/watch?v=GYPxXB0bmPc&t=648s\\n\\nhttps://www.itl.nist.gov/div898/handbook/eda/section3/eda366j.htm\\n\\nThe Poisson distribution is used to model the number of events occurring within a given time interval.\\nThe formula for the Poisson probability mass function is\\n\\np(x;λ)=(e to power −λ)(λ to power x)/x! for x=0,1,2,⋯\\n\\nλ is the shape parameter which indicates the average number of events in the given time interval.\\n\\n\\n\\n'"
      ]
     },
     "execution_count": 38,
     "metadata": {},
     "output_type": "execute_result"
    }
   ],
   "source": [
    "\"\"\"\n",
    "poisson distribution\n",
    "\n",
    "https://www.youtube.com/watch?v=GYPxXB0bmPc&t=648s\n",
    "\n",
    "https://www.itl.nist.gov/div898/handbook/eda/section3/eda366j.htm\n",
    "\n",
    "The Poisson distribution is used to model the number of events occurring within a given time interval.\n",
    "The formula for the Poisson probability mass function is\n",
    "\n",
    "p(x;λ)=(e to power −λ)(λ to power x)/x! for x=0,1,2,⋯\n",
    "\n",
    "λ is the shape parameter which indicates the average number of events in the given time interval.\n",
    "\n",
    "\n",
    "\n",
    "\"\"\""
   ]
  },
  {
   "cell_type": "code",
   "execution_count": 41,
   "metadata": {
    "collapsed": false
   },
   "outputs": [],
   "source": [
    "def normal_cdf(x,mu=0,sigma=1):\n",
    "    \"\"\"\n",
    "    \n",
    "    The cumulative distribution function (cdf) is the probability\n",
    "    that the variable takes a value less than or equal to x. That is.\n",
    "    For a continuous distribution, this can be expressed mathematically as.\n",
    "    \n",
    "    \n",
    "    \n",
    "    \n",
    "    math.erf(x)\n",
    "    Return the error function at x.\n",
    "\n",
    "    The erf() function can be used to compute traditional statistical\n",
    "    functions such as the cumulative standard normal distribution:\n",
    "\n",
    "    def phi(x):\n",
    "        'Cumulative distribution function for the standard normal distribution'\n",
    "        return (1.0 + erf(x / sqrt(2.0))) / 2.0\n",
    "\n",
    "\n",
    "    \"\"\"\n",
    "    \n",
    "    return  ( 1 + math.erf((x - mu) / math.sqrt(2) / sigma )) / 2\n"
   ]
  },
  {
   "cell_type": "code",
   "execution_count": 45,
   "metadata": {
    "collapsed": false
   },
   "outputs": [
    {
     "data": {
      "image/png": "[encoded data removed]",
      "text/plain": [
       "<matplotlib.figure.Figure at 0x2b7cd9c2048>"
      ]
     },
     "metadata": {},
     "output_type": "display_data"
    }
   ],
   "source": [
    "def plot_normal_cdfs(plt):\n",
    "    xs = [ x / 10.0 for x in range(-50,50)]\n",
    "    \n",
    "    plt.plot(xs, [ normal_cdf(x,sigma=1) for x in xs ],'-',label='mu =0 sigma=1')\n",
    "    plt.plot(xs, [normal_cdf(x,sigma=2 ) for x in xs],'--',label='mu=0 sigma =2')\n",
    "    plt.plot(xs, [normal_cdf(x,sigma=0.5) for x in xs],':',label='mu=0,sigma=0.5')\n",
    "    plt.plot(xs, [normal_cdf(x,mu=-1)for x in xs],'-.',label='mu=-1 ,sigma=1')\n",
    "    \n",
    "    plt.show()\n",
    "    \n",
    "    \n",
    "plot_normal_cdfs(plt)    \n",
    "\n",
    "\n"
   ]
  },
  {
   "cell_type": "markdown",
   "metadata": {},
   "source": [
    "# Inverse normal distributions need to under stand"
   ]
  },
  {
   "cell_type": "code",
   "execution_count": 46,
   "metadata": {
    "collapsed": true
   },
   "outputs": [],
   "source": [
    "def inverse_normal_cdf(p, mu=0, sigma=1, tolerance=0.00001):\n",
    "    \"\"\"find approximate inverse using binary search\"\"\"\n",
    "\n",
    "    \"\"\"\n",
    "    \n",
    "    https://stats.stackexchange.com/questions/265925/what-is-inverse-cdf-normal-distribution-formula?utm_medium=organic&utm_source=google_rich_qa&utm_campaign=google_rich_qa\n",
    "    \n",
    "    https://math.stackexchange.com/questions/1689581/inverse-standard-normal-cdf?utm_medium=organic&utm_source=google_rich_qa&utm_campaign=google_rich_qa\n",
    "    \"\"\"\n",
    "    \n",
    "    \n",
    "    \n",
    "    # if not standard, compute standard and rescale\n",
    "    if mu != 0 or sigma != 1:\n",
    "        return mu + sigma * inverse_normal_cdf(p, tolerance=tolerance)\n",
    "    \n",
    "    low_z, low_p = -10.0, 0            # normal_cdf(-10) is (very close to) 0\n",
    "    hi_z,  hi_p  =  10.0, 1            # normal_cdf(10)  is (very close to) 1\n",
    "    while hi_z - low_z > tolerance:\n",
    "        mid_z = (low_z + hi_z) / 2     # consider the midpoint\n",
    "        mid_p = normal_cdf(mid_z)      # and the cdf's value there\n",
    "        if mid_p < p:\n",
    "            # midpoint is still too low, search above it\n",
    "            low_z, low_p = mid_z, mid_p\n",
    "        elif mid_p > p:\n",
    "            # midpoint is still too high, search below it\n",
    "            hi_z, hi_p = mid_z, mid_p\n",
    "        else:\n",
    "            break\n",
    "\n",
    "    return mid_z\n"
   ]
  },
  {
   "cell_type": "code",
   "execution_count": null,
   "metadata": {
    "collapsed": true
   },
   "outputs": [],
   "source": [
    "def bernoulli_trial(p):\n",
    "    \"\"\"\n",
    "    \n",
    "    http://www.statisticshowto.com/bernoulli-distribution/\n",
    "    \n",
    "    \n",
    "    A Bernouilli distribution is a discrete probability distribution \n",
    "    for a Bernouilli trial — a random experiment that has only two \n",
    "    outcomes (usually called a “Success” or a “Failure”). \n",
    "    For example, the probability of getting a heads (a “success”) \n",
    "    while flipping a coin is 0.5. \n",
    "    The probability of “failure” is 1 – P (1 minus the probability of success,\n",
    "    which also equals 0.5 for a coin toss).\n",
    "    It is a special case of the binomial distribution for n = 1.\n",
    "    In other words, it is a binomial distribution with a single trial\n",
    "    (e.g. a single coin toss).\n",
    "    \n",
    "    The probability of a failure is labeled on the x-axis as 0 \n",
    "    and success is labeled as 1. In the following Bernoulli distribution,\n",
    "    the probability of success (1) is 0.4, and\n",
    "    the probability of failure (0) is 0.6:\n",
    "    \n",
    "    The probability density function (pdf) for this distribution is px (1 – p)1 – x, which can also be written as:\n",
    "pdf bernoulli\n",
    "\n",
    "\n",
    "\n",
    "    \n",
    "    \n",
    "    \n",
    "    \n",
    "    \"\"\"\n",
    "    return 1 if random.random() < p else 0"
   ]
  },
  {
   "cell_type": "code",
   "execution_count": 51,
   "metadata": {
    "collapsed": false
   },
   "outputs": [],
   "source": [
    "def binomial(p,n):\n",
    "    \n",
    "    \"\"\"\n",
    "    https://stackoverflow.com/questions/818828/is-it-possible-to-implement-a-python-for-range-loop-without-an-iterator-variable?utm_medium=organic&utm_source=google_rich_qa&utm_campaign=google_rich_qa\n",
    "        \n",
    "        \n",
    "down vote\n",
    "accepted\n",
    "Off the top of my head, no.\n",
    "\n",
    "I think the best you could do is something like this:\n",
    "\n",
    "def loop(f,n):\n",
    "    for i in xrange(n): f()\n",
    "\n",
    "loop(lambda: <insert expression here>, 5)\n",
    "But I think you can just live with the extra i variable.\n",
    "\n",
    "Here is the option to use the _ variable, which in reality, is just another variable.\n",
    "\n",
    "for _ in range(n):\n",
    "    do_something()\n",
    "Note that _ is assigned the last result that returned in an interactive python session:\n",
    "\n",
    ">>> 1+2\n",
    "3\n",
    ">>> _\n",
    "3\n",
    "For this reason, I would not use it in this manner. I am unaware of any idiom as mentioned by Ryan. It can mess up your interpreter.\n",
    "\n",
    ">>> for _ in xrange(10): pass\n",
    "...\n",
    ">>> _\n",
    "9\n",
    ">>> 1+2\n",
    "3\n",
    ">>> _\n",
    "9\n",
    "And according to python grammar, it is an acceptable variable name:\n",
    "\n",
    "identifier ::= (letter|\"_\") (letter | digit | \"_\")*\n",
    "    \n",
    "    \n",
    "    \n",
    "    for _ in range(5):\n",
    "    some_oper....\n",
    "    \n",
    "    \n",
    "    it means u need to the some_oper... n times.\n",
    "    \n",
    "    \n",
    "    \n",
    "    --------------------------------------\n",
    "    \n",
    "    \n",
    "    http://www.statisticshowto.com/binomial-distribution-formula/\n",
    "    \n",
    "    \n",
    "    https://www.mathsisfun.com/data/binomial-distribution.html\n",
    "    \n",
    "    \n",
    "    \n",
    "    \n",
    "    \n",
    "    \n",
    "    https://www.mathsisfun.com/data/index.html\n",
    "    \n",
    "    \n",
    "    A Bernoulli random variable has two possible outcomes: 0 or 1.\n",
    "    A binomial distribution is the sum of independent and identically \n",
    "    distributed Bernoulli random variables.\n",
    "    \n",
    "    \n",
    "    \n",
    "    \"\"\"\n",
    "    \n",
    "    return sum(bernoulli_trial(p) for _ in range(n))\n",
    "    \n",
    "    \n",
    "    \n",
    "    \n",
    "    \n",
    "  "
   ]
  },
  {
   "cell_type": "markdown",
   "metadata": {},
   "source": [
    "# make histogram need to understand\n"
   ]
  },
  {
   "cell_type": "code",
   "execution_count": 52,
   "metadata": {
    "collapsed": false
   },
   "outputs": [],
   "source": [
    "def make_his(p,n,num_points):\n",
    "    \n",
    "    data = [binomial(p,n) for _ in range(num_points)]\n",
    "    \n",
    "    #use a bar chart to show the actual binomial samples\n",
    "    \n",
    "    histogram = Counter(data)\n",
    "    \n",
    "    plt.bar( [ x - 0.4 for x in histogram.keys() ], [v / num_pionts for v in histgram.values()],0.8,color='0.75')\n",
    "    \n",
    "    \n",
    "    mu = p * n\n",
    "    \n",
    "    sigma = math.sqrt(n*p*(1-p))\n",
    "    \n",
    "    \n",
    "    #use a line chart to show the normal approximation\n",
    "    \n",
    "    xs = range(min(data),max(data)+1)\n",
    "    \n",
    "    ys = [ normal_cdf(i + 0.5 , mu, sigma) - normal_cdf(i-0.5,mu,sigma) for i in xs]\n",
    "    \n",
    "    plt.plot(xs,ys)\n",
    "    plt.show()"
   ]
  },
  {
   "cell_type": "code",
   "execution_count": 57,
   "metadata": {
    "collapsed": false
   },
   "outputs": [
    {
     "name": "stdout",
     "output_type": "stream",
     "text": [
      "P(both | older):  0.5007089325501317\n",
      "P(both | either):  0.3311897106109325\n"
     ]
    }
   ],
   "source": [
    "\"\"\"\n",
    "\n",
    "All the other answers don't seem to explain the use of random.seed(). Here is a simple example (source):\n",
    "\n",
    "import random\n",
    "random.seed( 3 )\n",
    "print \"Random number with seed 3 : \", random.random() #will generate a random number \n",
    "#if you want to use the same random number once again in your program\n",
    "random.seed( 3 )\n",
    "random.random()   # same random number as before\n",
    "\n",
    "\n",
    "\n",
    "\"\"\"\n",
    "\n",
    "\n",
    "\n",
    "if __name__ == \"__main__\":\n",
    "\n",
    "    #\n",
    "    # CONDITIONAL PROBABILITY\n",
    "    #\n",
    "\n",
    "    both_girls = 0\n",
    "    older_girl = 0\n",
    "    either_girl = 0\n",
    "\n",
    "    random.seed(0)\n",
    "    for _ in range(10000):\n",
    "        younger = random_kid()\n",
    "        older = random_kid()\n",
    "        if older == \"girl\":\n",
    "            older_girl += 1\n",
    "        if older == \"girl\" and younger == \"girl\":\n",
    "            both_girls += 1\n",
    "        if older == \"girl\" or younger == \"girl\":\n",
    "            either_girl += 1\n",
    "\n",
    "    print (\"P(both | older): \", both_girls / older_girl)      # 0.514 ~ 1/2\n",
    "    print (\"P(both | either): \", both_girls / either_girl )  # 0.342 ~ 1/3"
   ]
  },
  {
   "cell_type": "code",
   "execution_count": null,
   "metadata": {
    "collapsed": true
   },
   "outputs": [],
   "source": []
  }
 ],
 "metadata": {
  "anaconda-cloud": {},
  "kernelspec": {
   "display_name": "Python [default]",
   "language": "python",
   "name": "python3"
  },
  "language_info": {
   "codemirror_mode": {
    "name": "ipython",
    "version": 3
   },
   "file_extension": ".py",
   "mimetype": "text/x-python",
   "name": "python",
   "nbconvert_exporter": "python",
   "pygments_lexer": "ipython3",
   "version": "3.5.2"
  }
 },
 "nbformat": 4,
 "nbformat_minor": 1
}
