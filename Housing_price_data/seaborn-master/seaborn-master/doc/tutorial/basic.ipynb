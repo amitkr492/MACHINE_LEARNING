{
 "cells": [
  {
   "cell_type": "raw",
   "metadata": {},
   "source": [
    ".. _basic_tutorial:\n",
    "\n",
    ".. currentmodule:: seaborn"
   ]
  },
  {
   "cell_type": "markdown",
   "metadata": {},
   "source": [
    "# Basic plots to show numeric relationships"
   ]
  },
  {
   "cell_type": "raw",
   "metadata": {},
   "source": [
    "<TODO introductory copy>"
   ]
  },
  {
   "cell_type": "code",
   "execution_count": null,
   "metadata": {},
   "outputs": [],
   "source": [
    "%matplotlib inline"
   ]
  },
  {
   "cell_type": "code",
   "execution_count": null,
   "metadata": {},
   "outputs": [],
   "source": [
    "import numpy as np\n",
    "import pandas as pd\n",
    "import matplotlib as mpl\n",
    "import matplotlib.pyplot as plt"
   ]
  },
  {
   "cell_type": "code",
   "execution_count": null,
   "metadata": {},
   "outputs": [],
   "source": [
    "import seaborn as sns\n",
    "sns.set(style=\"darkgrid\", color_codes=True)\n",
    "np.random.seed(sum(map(ord, \"basic\")))"
   ]
  },
  {
   "cell_type": "raw",
   "metadata": {},
   "source": [
    "Emphasizing continuity with line plots\n",
    "--------------------------------------\n",
    "\n",
    "With some datasets, you may want to understand changes in one variable as a function of another variable that has some sense of continuity. This is most common when one of the variables represents time, either abstractly or with a datetime object. In this situation, a good choice is to draw a line plot. In seaborn, this can be accomplished with the :func:`lineplot` function.\n",
    "\n",
    "The simplest case is when you have a vector of timepoints and a vector of values. To draw the function relating these variables, pass each to the ``x`` and ``y`` parameters of the :func:`lineplot` function, respectively:"
   ]
  },
  {
   "cell_type": "code",
   "execution_count": null,
   "metadata": {},
   "outputs": [],
   "source": [
    "time = pd.date_range(\"2017-01-01\", periods=24 * 31, freq=\"h\")\n",
    "value = np.random.randn(len(time)).cumsum()\n",
    "sns.lineplot(x=time, y=value);"
   ]
  },
  {
   "cell_type": "raw",
   "metadata": {},
   "source": [
    "Because :func:`lineplot` assumes that you are most often trying to draw ``y`` as a function of ``x``, the default behavior is to sort the data by the ``x`` values before plotting. However, this can be disabled:"
   ]
  },
  {
   "cell_type": "code",
   "execution_count": null,
   "metadata": {},
   "outputs": [],
   "source": [
    "x, y = np.random.randn(2, 1000).cumsum(axis=1)\n",
    "sns.lineplot(x=x, y=y, sort=False);"
   ]
  },
  {
   "cell_type": "raw",
   "metadata": {},
   "source": [
    "Aggregation and representing uncertainty\n",
    "----------------------------------------\n",
    "\n",
    "More complex datasets will have multiple measurements for the same value of the ``x`` variable. The default behavior in seaborn is to aggregate the multiple measurements at each ``x`` value by plotting the mean and the 95% confidence interval around the mean:"
   ]
  },
  {
   "cell_type": "code",
   "execution_count": null,
   "metadata": {},
   "outputs": [],
   "source": [
    "fmri = sns.load_dataset(\"fmri\")\n",
    "sns.lineplot(x=\"timepoint\", y=\"signal\", data=fmri);"
   ]
  },
  {
   "cell_type": "raw",
   "metadata": {},
   "source": [
    "The confidence intervals are computed using bootstrapping, which can be time-intensive for larger datasets. It's therefore possible to disable them:"
   ]
  },
  {
   "cell_type": "code",
   "execution_count": null,
   "metadata": {},
   "outputs": [],
   "source": [
    "sns.lineplot(x=\"timepoint\", y=\"signal\", data=fmri, ci=None);"
   ]
  },
  {
   "cell_type": "raw",
   "metadata": {},
   "source": [
    "Another good option, especially with larger data, is to represent the spread of the distribution at each timepoint by plotting the standard deviation instead of a confidence interval:"
   ]
  },
  {
   "cell_type": "code",
   "execution_count": null,
   "metadata": {},
   "outputs": [],
   "source": [
    "sns.lineplot(x=\"timepoint\", y=\"signal\", data=fmri, ci=\"sd\");"
   ]
  },
  {
   "cell_type": "raw",
   "metadata": {},
   "source": [
    "To turn off aggregation altogether, set the ``estimator`` parameter to ``None``."
   ]
  },
  {
   "cell_type": "code",
   "execution_count": null,
   "metadata": {},
   "outputs": [],
   "source": [
    "sns.lineplot(x=\"timepoint\", y=\"signal\", data=fmri, estimator=None);"
   ]
  },
  {
   "cell_type": "raw",
   "metadata": {},
   "source": [
    "The ``estimator``  parameter can also be used to control what method is used to aggregate the data."
   ]
  },
  {
   "cell_type": "raw",
   "metadata": {},
   "source": [
    "Plotting subsets of data with semantic mappings\n",
    "-----------------------------------------------\n",
    "\n",
    "Often there will be multiple measurements at each value of ``x`` because we want to know how the relationship between ``x`` and ``y`` changes as a function of other variables. The :func:`lineplot` function allows you to define up to three additional variables that will be used to subset the data. These variables are then semantically mapped by the color (``hue``), width (``size``) and dashes/markers (``style``) used to draw the lines. For example, we can draw two line plots with different colors simply by defining a variable to be used for ``hue`` subsets:"
   ]
  },
  {
   "cell_type": "code",
   "execution_count": null,
   "metadata": {},
   "outputs": [],
   "source": [
    "sns.lineplot(x=\"timepoint\", y=\"signal\", hue=\"event\", data=fmri);"
   ]
  },
  {
   "cell_type": "raw",
   "metadata": {},
   "source": [
    "By adding a separate ``style`` variable, we can explore more complex relationships:"
   ]
  },
  {
   "cell_type": "code",
   "execution_count": null,
   "metadata": {},
   "outputs": [],
   "source": [
    "sns.lineplot(x=\"timepoint\", y=\"signal\", hue=\"region\", style=\"event\", data=fmri);"
   ]
  },
  {
   "cell_type": "raw",
   "metadata": {},
   "source": [
    "Be cautious about making plots with multiple subset variables. While sometimes informative, they can also be very difficult to parse and interperet. However, even when you are only examining changes across one subset variable, it can be useful to alter both the color and style of the lines, which can make the plot more accessible when printed to black-and-white or viewed by someone with colorblindness:"
   ]
  },
  {
   "cell_type": "code",
   "execution_count": null,
   "metadata": {},
   "outputs": [],
   "source": [
    "sns.lineplot(x=\"timepoint\", y=\"signal\", hue=\"event\", style=\"event\", data=fmri);"
   ]
  },
  {
   "cell_type": "raw",
   "metadata": {},
   "source": [
    "Some effort has been put into choosing good defaults so that you do not need to spend time specifying plot attributes for quick exploration, but the way the ``hue`` and ``style`` variables are mapped can be controlled through various parameters to the :func:`lineplot` function:"
   ]
  },
  {
   "cell_type": "code",
   "execution_count": null,
   "metadata": {},
   "outputs": [],
   "source": [
    "sns.lineplot(x=\"timepoint\", y=\"signal\", hue=\"region\", style=\"event\",\n",
    "             palette=\"Set2\", hue_order=[\"frontal\", \"parietal\"],\n",
    "             dashes=[\"\", (1, 1)],\n",
    "             data=fmri);"
   ]
  },
  {
   "cell_type": "raw",
   "metadata": {},
   "source": [
    "By default, the ``style`` variable is represented by drawing lines with different dash patterns, but you can also draw markers with different shapes at the exact position of each observation:"
   ]
  },
  {
   "cell_type": "code",
   "execution_count": null,
   "metadata": {},
   "outputs": [],
   "source": [
    "sns.lineplot(x=\"timepoint\", y=\"signal\", hue=\"region\", style=\"event\",\n",
    "             palette=\"Set2\", hue_order=[\"frontal\", \"parietal\"],\n",
    "             dashes=False, markers=True,\n",
    "             data=fmri);"
   ]
  },
  {
   "cell_type": "raw",
   "metadata": {
    "collapsed": true
   },
   "source": [
    "In the above examples, the ``hue`` variable takes different categorical values, and the colors of the lines are chosen with an appropriate qualitative colormap. When the ``hue`` variable is instead numeric (specifcally, if it can be cast to float), the default behavior is to use a sequential colormap and to make a legend with \"ticks\" instead of an entry for each line (allowing it to scale to showing many lines):"
   ]
  },
  {
   "cell_type": "code",
   "execution_count": null,
   "metadata": {},
   "outputs": [],
   "source": [
    "dots = sns.load_dataset(\"dots\").query(\"align == 'dots'\")\n",
    "sns.lineplot(x=\"time\", y=\"firing_rate\",\n",
    "             hue=\"coherence\", style=\"choice\",\n",
    "             data=dots);"
   ]
  },
  {
   "cell_type": "raw",
   "metadata": {},
   "source": [
    "A non-default colormap can be selected in this case by passing a colormap name or object, and you can ask for a ``\"full\"`` legend:"
   ]
  },
  {
   "cell_type": "code",
   "execution_count": null,
   "metadata": {},
   "outputs": [],
   "source": [
    "cmap = sns.cubehelix_palette(light=.7, as_cmap=True)\n",
    "sns.lineplot(x=\"time\", y=\"firing_rate\",\n",
    "             hue=\"coherence\", style=\"choice\",\n",
    "             palette=cmap,\n",
    "             legend=\"full\", data=dots);"
   ]
  },
  {
   "cell_type": "raw",
   "metadata": {},
   "source": [
    "It may happen that, even though the ``hue`` variable is numeric, it is poorly represented by a linear color scale. That's the case here, where the levels of the ``hue`` variable are logarithmically scaled. You can provide specific color values for each line by passing a list or dictionary:"
   ]
  },
  {
   "cell_type": "code",
   "execution_count": null,
   "metadata": {},
   "outputs": [],
   "source": [
    "palette = sns.cubehelix_palette(light=.7, n_colors=6)\n",
    "sns.lineplot(x=\"time\", y=\"firing_rate\",\n",
    "             hue=\"coherence\", style=\"choice\",\n",
    "             palette=palette,\n",
    "             data=dots);"
   ]
  },
  {
   "cell_type": "raw",
   "metadata": {},
   "source": [
    "Another option for semantically mapping a subset is to change the width of its lines, which is accomplished by defining the ``size`` parameter:"
   ]
  },
  {
   "cell_type": "code",
   "execution_count": null,
   "metadata": {},
   "outputs": [],
   "source": [
    "sns.lineplot(x=\"time\", y=\"firing_rate\",\n",
    "             size=\"coherence\", style=\"choice\",\n",
    "             data=dots);"
   ]
  },
  {
   "cell_type": "raw",
   "metadata": {},
   "source": [
    "It's possible to control the range of line widths that are spanned by the data using the ``sizes`` parameter. Here we pass a ``(min, max)`` tuple, it it's also possible to pass a list of dictionary to precisely specify the width of each line:"
   ]
  },
  {
   "cell_type": "code",
   "execution_count": null,
   "metadata": {},
   "outputs": [],
   "source": [
    "sns.lineplot(x=\"time\", y=\"firing_rate\",\n",
    "             size=\"coherence\", style=\"choice\",\n",
    "             sizes=(1, 2),\n",
    "             data=dots);"
   ]
  },
  {
   "cell_type": "raw",
   "metadata": {},
   "source": [
    "While the ``size`` variable will typically be numeric, it's also possible to map a categorical variable with the width of the lines. Be cautious when doing so, because it will be very difficult to distinguish much more than \"thick\" vs \"thin\" lines. However, dashes can be hard to perceive when lines have considerable high-frequency variability, so using different widths may be helpful:"
   ]
  },
  {
   "cell_type": "code",
   "execution_count": null,
   "metadata": {},
   "outputs": [],
   "source": [
    "palette = sns.cubehelix_palette(light=.7, n_colors=6)\n",
    "sns.lineplot(x=\"time\", y=\"firing_rate\",\n",
    "             hue=\"coherence\", size=\"choice\",\n",
    "             palette=palette,\n",
    "             data=dots);"
   ]
  },
  {
   "cell_type": "raw",
   "metadata": {},
   "source": [
    "Plotting with \"long\" versus \"wide\" data\n",
    "---------------------------------------\n",
    "\n",
    "Like many other functions, :func:`lineplot` is most flexible when it is provided with \"long-\n",
    "form\" (or \"tidy\") data, typically in the form of a DataFrame where each column represents a variable and each row represents an observation. However, data are not always naturally generated or stored in long-form format, and it can be helpful to be able to take a quick look without reformatting. To support this, :func:`lineplot` can visualize a number of different \"wide-form\" representations if they are passed to ``data``. For instance, you can pass a wide DataFrame, which will draw a line for each column using the index for the ``x`` values:"
   ]
  },
  {
   "cell_type": "code",
   "execution_count": null,
   "metadata": {},
   "outputs": [],
   "source": [
    "date = pd.date_range(\"2017-01-01\", periods=365)\n",
    "vals = np.random.randn(365, 4).cumsum(axis=0)\n",
    "wide_df = pd.DataFrame(vals, date, list(\"ABCD\"))\n",
    "sns.lineplot(data=wide_df);"
   ]
  },
  {
   "cell_type": "raw",
   "metadata": {},
   "source": [
    "Numpy arrays are handled similarly, except you lose the label information that you get from pandas:"
   ]
  },
  {
   "cell_type": "code",
   "execution_count": null,
   "metadata": {},
   "outputs": [],
   "source": [
    "wide_array = np.asarray(wide_df)\n",
    "sns.lineplot(data=wide_array);"
   ]
  },
  {
   "cell_type": "raw",
   "metadata": {},
   "source": [
    "You can even pass in a list of objects with heterogreneous indices:"
   ]
  },
  {
   "cell_type": "code",
   "execution_count": null,
   "metadata": {},
   "outputs": [],
   "source": [
    "wide_list = [wide_df.loc[:\"2017-09-01\", \"A\"], wide_df.loc[\"2017-05-1\":, \"B\"]]\n",
    "sns.lineplot(data=wide_list);"
   ]
  },
  {
   "cell_type": "code",
   "execution_count": null,
   "metadata": {},
   "outputs": [],
   "source": []
  }
 ],
 "metadata": {
  "kernelspec": {
   "display_name": "Python 3.6  (seaborn-dev)",
   "language": "python",
   "name": "seaborn-dev"
  },
  "language_info": {
   "codemirror_mode": {
    "name": "ipython",
    "version": 3
   },
   "file_extension": ".py",
   "mimetype": "text/x-python",
   "name": "python",
   "nbconvert_exporter": "python",
   "pygments_lexer": "ipython3",
   "version": "3.6.3"
  }
 },
 "nbformat": 4,
 "nbformat_minor": 2
}
