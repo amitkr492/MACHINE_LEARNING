{
 "cells": [
  {
   "cell_type": "markdown",
   "metadata": {},
   "source": [
    "# Hacker earth house prediction"
   ]
  },
  {
   "cell_type": "markdown",
   "metadata": {},
   "source": [
    "Understand the problem\n",
    "\n",
    "Hypothesis Generation\n",
    "\n",
    "Get Data\n",
    "\n",
    "Data Exploration\n",
    "\n",
    "Data Pre-Processing\n",
    "\n",
    "Feature Engineering - Create 331 new features\n",
    "\n",
    "Model Training - XGBoost, Neural Network, Lasso\n",
    "\n",
    "Model Evaluation\n",
    "--------------------------------------------\n",
    "\n",
    "Skewness\n",
    "\n",
    "Missing data\n",
    "\n",
    "zero variance features\n",
    "\n",
    "creating chart -- univariate , bivariate, crosstable\n",
    "\n",
    "-----------------------------\n",
    "\n",
    "\n"
   ]
  },
  {
   "cell_type": "markdown",
   "metadata": {},
   "source": [
    "# Getting the data"
   ]
  },
  {
   "cell_type": "markdown",
   "metadata": {},
   "source": [
    " check missing values\n",
    "\n",
    "visualising missing values\n",
    "\n",
    "plot the missing value count\n",
    "\n",
    "\n",
    "check the distribution of the target variable\n",
    "\n",
    "\n",
    "checking the skewness\n",
    "\n",
    "removing the skewness \n",
    "\n",
    "converting to normal distribution\n",
    "\n",
    "\n",
    "now transforming the target variable to log function might go closer to normal distribution\n",
    "\n",
    "\n",
    "\n",
    "Finding the correlation of features with target variable\n",
    "\n",
    "separating the categorical variable and numerical variable\n",
    "\n",
    "\n",
    "removing the correlated variale if not giving any useful information \n",
    "\n",
    "\n",
    "#correlation plot\n",
    "\n",
    "\n",
    "checking the behaviour for ordinal variable and nominal variable\n",
    "\n",
    "\n",
    "doing the ANOVA test to understand the correlation of categorical variable\n",
    "\n",
    "\n",
    "disparity score \n",
    "\n",
    "\n",
    "creating box plot and histograms \n",
    "\n",
    "\n",
    "\n",
    "\n",
    "\n",
    "\n",
    "\n",
    "\n",
    "\n",
    "\n",
    "\n",
    "\n",
    "\n",
    "\n",
    "\n",
    "\n",
    "\n",
    "\n"
   ]
  },
  {
   "cell_type": "markdown",
   "metadata": {},
   "source": [
    "# Data Pre-Processing # Data Exploration"
   ]
  },
  {
   "cell_type": "markdown",
   "metadata": {},
   "source": [
    "Removing outliers\n",
    "\n",
    "Imputing empty value of numerical value by mean, mode or median\n",
    "\n",
    "Imputing empty value for categorical value\n",
    "\n",
    "imputing none at some places or making as missing value np.nan\n",
    "\n",
    "\n",
    "Encoding the categorical Variables ( Use of LabelEncoder function)\n",
    "\n",
    "consider categorical or ordinal values separately \n",
    "\n",
    "\n",
    "converting the categorical values to ordinal value by creating the map \n",
    "\n",
    "\n",
    "Univariate Analysis\n",
    "\n",
    "Bivariate Analysis\n",
    "\n",
    "Multivariate Analysis\n",
    "\n",
    "Cross Tables\n",
    "\n",
    "\n",
    "\n"
   ]
  },
  {
   "cell_type": "markdown",
   "metadata": {},
   "source": [
    "# Feature Engineering"
   ]
  },
  {
   "cell_type": "markdown",
   "metadata": {},
   "source": [
    "We'll create some binary variables depicting the presence or absence of a category.\n",
    "\n",
    "near-zero variance distribution. Near-zero variance distribution is when one of the categories in a variable has >90% of the values\n",
    "\n",
    "\n",
    "#creating new variable (1 or 0) based on irregular count levels\n",
    "#The level with highest count is kept as 1 and rest as 0\n",
    "\n",
    "\n",
    "\n",
    "we have several columns associated with the area of the property. An interesting variable could be the sum of all areas for a particular house. In addition, we can also create new features based on the year the house built\n",
    "\n",
    "\n",
    "#grouping neighborhood variable based on this plot\n",
    "\n",
    "\n",
    "we'll transform numeric features and remove their skewness.\n",
    "\n",
    "\n",
    "\n",
    "\n",
    "\n",
    "\n",
    "\n",
    "\n"
   ]
  },
  {
   "cell_type": "markdown",
   "metadata": {
    "collapsed": true
   },
   "source": [
    "\n",
    "we'll standardize the numeric features.\n",
    "\n",
    "from sklearn.preprocessing import StandardScaler\n",
    "\n",
    "-----------\n",
    "\n",
    "we'll one-hot encode the categorical variable. In one-hot encoding, every level of a categorical variable results in a new variable with binary values (0 or 1)\n",
    "\n",
    "\n",
    "----------\n",
    "\n",
    "\n",
    " Model Training and Evaluation\n",
    "    \n",
    "    \n"
   ]
  },
  {
   "cell_type": "markdown",
   "metadata": {},
   "source": [
    "#  Model Training and Evaluation\n",
    "    \n",
    "    "
   ]
  },
  {
   "cell_type": "markdown",
   "metadata": {
    "collapsed": true
   },
   "source": [
    "To evaluate the model's performance, we'll create a quick RMSE function.\n",
    "\n"
   ]
  },
  {
   "cell_type": "code",
   "execution_count": null,
   "metadata": {
    "collapsed": true
   },
   "outputs": [],
   "source": []
  },
  {
   "cell_type": "code",
   "execution_count": null,
   "metadata": {
    "collapsed": true
   },
   "outputs": [],
   "source": []
  },
  {
   "cell_type": "markdown",
   "metadata": {
    "collapsed": true
   },
   "source": [
    "# Titanic problem\n"
   ]
  },
  {
   "cell_type": "markdown",
   "metadata": {
    "collapsed": true
   },
   "source": [
    "We also combine these datasets to run certain operations on both datasets together.\n",
    "\n",
    "\n",
    "We combine both test and train data so that we can perform operation like feature engineernig ,creating new features, cleaning data , \n"
   ]
  },
  {
   "cell_type": "code",
   "execution_count": null,
   "metadata": {
    "collapsed": true
   },
   "outputs": [],
   "source": []
  }
 ],
 "metadata": {
  "anaconda-cloud": {},
  "kernelspec": {
   "display_name": "Python [default]",
   "language": "python",
   "name": "python3"
  },
  "language_info": {
   "codemirror_mode": {
    "name": "ipython",
    "version": 3
   },
   "file_extension": ".py",
   "mimetype": "text/x-python",
   "name": "python",
   "nbconvert_exporter": "python",
   "pygments_lexer": "ipython3",
   "version": "3.5.2"
  }
 },
 "nbformat": 4,
 "nbformat_minor": 1
}
